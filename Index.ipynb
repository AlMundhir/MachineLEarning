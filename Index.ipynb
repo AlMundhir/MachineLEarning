{
 "cells": [
  {
   "cell_type": "markdown",
   "metadata": {},
   "source": [
    "<h1>Index</h1>\n",
    "<a href='Week2'> Week 2</a><br>\n",
    "<a href='Week3'> Week 3</a><br>\n",
    "<a href='Week4'>Week 4</a><br>\n",
    "<a href='Week5'>Week 5</a><br>\n",
    "<a href='Week6'>Week 6</a><br>\n",
    "<a href='Week7'>Week 7</a><br>\n",
    "<a href='Week10'>Week 10</a><br>\n",
    "<a href='Week12'>Week 12</a><br>\n",
    "<a href='Week13'>Week 13</a><br>\n",
    "<a href='reflection.txt'> Reflection</a><br>\n"
   ]
  },
  {
   "cell_type": "markdown",
   "metadata": {
    "collapsed": true
   },
   "source": [
    "Remark: Im Ict and Business student which means i only did a semster of coding before this..\n",
    "            therefor not everything in the assignments i was able to do.. but i tried my best and learned a lot during the course "
   ]
  }
 ],
 "metadata": {
  "kernelspec": {
   "display_name": "Python 2",
   "language": "python",
   "name": "python2"
  },
  "language_info": {
   "codemirror_mode": {
    "name": "ipython",
    "version": 2
   },
   "file_extension": ".py",
   "mimetype": "text/x-python",
   "name": "python",
   "nbconvert_exporter": "python",
   "pygments_lexer": "ipython2",
   "version": "2.7.10"
  }
 },
 "nbformat": 4,
 "nbformat_minor": 0
}
